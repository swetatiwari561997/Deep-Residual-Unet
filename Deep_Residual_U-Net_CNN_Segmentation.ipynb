{
 "cells": [
  {
   "cell_type": "markdown",
   "id": "9e66340b",
   "metadata": {},
   "source": [
    "## Importing Libraries"
   ]
  },
  {
   "cell_type": "code",
   "execution_count": 1,
   "id": "3f1c7826",
   "metadata": {},
   "outputs": [],
   "source": [
    "import numpy as np\n",
    "import pandas as pd\n",
    "import os\n",
    "from os.path import join\n",
    "import glob\n",
    "import random\n",
    "import tensorflow as tf\n",
    "import keras\n",
    "from keras.models import Sequential\n",
    "from keras.layers import Input, Dense, Dropout, Activation, Flatten, Conv2D, MaxPooling2D, BatchNormalization, Conv2D, UpSampling2D, Lambda\n",
    "from keras.models import Model, load_model\n",
    "from keras.layers.core import Dropout, Lambda\n",
    "from keras.layers.convolutional import Conv2D, Conv2DTranspose\n",
    "from keras.layers.pooling import MaxPooling2D\n",
    "from keras.layers.merge import concatenate\n",
    "from keras import backend as K\n",
    "from keras.callbacks import Callback, EarlyStopping, ReduceLROnPlateau, ModelCheckpoint\n",
    "from keras import initializers, layers, models\n",
    "from keras.utils.vis_utils import plot_model\n",
    "from keras.preprocessing.image import ImageDataGenerator\n",
    "from keras import callbacks\n",
    "from pathlib import Path\n",
    "from keras.preprocessing import image\n",
    "from matplotlib import pyplot as plt\n",
    "from medpy.metric import dc,precision,recall"
   ]
  },
  {
   "cell_type": "markdown",
   "id": "caf7ff5e",
   "metadata": {},
   "source": [
    "## Data Preperation"
   ]
  },
  {
   "cell_type": "code",
   "execution_count": 2,
   "id": "3ef7f7ad",
   "metadata": {},
   "outputs": [
    {
     "name": "stdout",
     "output_type": "stream",
     "text": [
      "X_Train:  (1729, 128, 128, 3)\n",
      "Y_Train:  (1729, 128, 128, 3)\n",
      "X_Test:  (542, 128, 128, 3)\n",
      "Y_Test:  (542, 128, 128, 3)\n"
     ]
    }
   ],
   "source": [
    "p1 = Path(\"Data/Train/image/\")\n",
    "p2 = \"Data/Train/mask/\"\n",
    "image_folder = p1.glob(\"*\")\n",
    "X_Train = []\n",
    "Y_Train = []\n",
    "\n",
    "for folder in image_folder:\n",
    "    p2_new = p2 + folder.name + '/'\n",
    "    folder = folder.glob(\"*\")\n",
    "    \n",
    "    for img in folder:\n",
    "        img_name = img.name\n",
    "        img_new = 'Y' + img_name[1:]\n",
    "        p2_final = p2_new + img_new\n",
    "        \n",
    "        imggX = image.load_img(img,target_size=(128,128))\n",
    "        img_arrayX = image.img_to_array(imggX)\n",
    "        X_Train.append(img_arrayX)\n",
    "        \n",
    "        imggY = image.load_img(p2_final,target_size=(128,128))\n",
    "        img_arrayY = image.img_to_array(imggY)\n",
    "        Y_Train.append(img_arrayY)\n",
    "        \"\"\"\"\"\"\"\"\"\"\"\n",
    "        print(p2_final)\n",
    "        print(img)\n",
    "        print()\n",
    "        \"\"\"\"\"\"\"\"\"\"\"\n",
    "\n",
    "p1 = Path(\"Data/Valid/image/\")\n",
    "p2 = \"Data/Valid/mask/\"\n",
    "image_folder = p1.glob(\"*\")\n",
    "\n",
    "for folder in image_folder:\n",
    "    p2_new = p2 + folder.name + '/'\n",
    "    folder = folder.glob(\"*\")\n",
    "    \n",
    "    for img in folder:\n",
    "        img_name = img.name\n",
    "        img_new = 'Y' + img_name[1:]\n",
    "        p2_final = p2_new + img_new\n",
    "        \n",
    "        imggX = image.load_img(img,target_size=(128,128))\n",
    "        img_arrayX = image.img_to_array(imggX)\n",
    "        X_Train.append(img_arrayX)\n",
    "        \n",
    "        imggY = image.load_img(p2_final,target_size=(128,128))\n",
    "        img_arrayY = image.img_to_array(imggY)\n",
    "        Y_Train.append(img_arrayY)\n",
    "        \"\"\"\"\"\"\"\"\"\"\"\n",
    "        print(p2_final)\n",
    "        print(img)\n",
    "        print()\n",
    "        \"\"\"\"\"\"\"\"\"\"\"\n",
    "X_Train = np.array(X_Train)\n",
    "Y_Train = np.array(Y_Train)\n",
    "print(\"X_Train: \", X_Train.shape)\n",
    "print(\"Y_Train: \", Y_Train.shape)\n",
    "\n",
    "\n",
    "p1 = Path(\"Data/Test/image/\")\n",
    "p2 = \"Data/Test/mask/\"\n",
    "image_folder = p1.glob(\"*\")\n",
    "X_Test = []\n",
    "Y_Test = []\n",
    "\n",
    "for folder in image_folder:\n",
    "    p2_new = p2 + folder.name + '/'\n",
    "    folder = folder.glob(\"*\")\n",
    "    \n",
    "    for img in folder:\n",
    "        img_name = img.name\n",
    "        img_new = 'Y' + img_name[1:]\n",
    "        p2_final = p2_new + img_new\n",
    "        \n",
    "        imggX = image.load_img(img,target_size=(128,128))\n",
    "        img_arrayX = image.img_to_array(imggX)\n",
    "        X_Test.append(img_arrayX)\n",
    "        \n",
    "        imggY = image.load_img(p2_final,target_size=(128,128))\n",
    "        img_arrayY = image.img_to_array(imggY)\n",
    "        Y_Test.append(img_arrayY)\n",
    "        \"\"\"\"\"\"\"\"\"\"\"\n",
    "        print(p2_final)\n",
    "        print(img)\n",
    "        print()\n",
    "        \"\"\"\"\"\"\"\"\"\"\"\n",
    "X_Test = np.array(X_Test)\n",
    "Y_Test = np.array(Y_Test)\n",
    "print(\"X_Test: \", X_Test.shape)\n",
    "print(\"Y_Test: \", Y_Test.shape)\n",
    "\n",
    "X_Train/=255\n",
    "X_Test/=255\n",
    "Y_Train/=255\n",
    "Y_Test/=255\n",
    "\n",
    "mean = np.mean(X_Train)\n",
    "std = np.std(X_Train)\n",
    "X_Train -= mean\n",
    "X_Train /= std\n",
    "X_Test -= mean\n",
    "X_Test /= std"
   ]
  },
  {
   "cell_type": "markdown",
   "id": "c397ca53",
   "metadata": {},
   "source": [
    "## ResUNet"
   ]
  },
  {
   "cell_type": "code",
   "execution_count": 3,
   "id": "2c45ec93",
   "metadata": {},
   "outputs": [],
   "source": [
    "smooth = 1\n",
    "\n",
    "def dice_coef(y_true, y_pred):\n",
    "    y_true_f = K.flatten(y_true)\n",
    "    y_pred_f = K.flatten(y_pred)\n",
    "    intersection = tf.reduce_sum(y_true_f * y_pred_f)\n",
    "    return (2. * intersection + smooth) / (tf.reduce_sum(y_true_f) + tf.reduce_sum(y_pred_f) + smooth)\n",
    "\n",
    "def dice_coef_loss(y_true, y_pred):\n",
    "    return 1.0 - dice_coef(y_true, y_pred)"
   ]
  },
  {
   "cell_type": "code",
   "execution_count": 4,
   "id": "1fda5128",
   "metadata": {},
   "outputs": [],
   "source": [
    "def bn_act(x, act=True):\n",
    "    x = tf.keras.layers.BatchNormalization()(x)\n",
    "    if act == True:\n",
    "        x = tf.keras.layers.Activation(\"relu\")(x)\n",
    "    return x \n",
    "\n",
    "def conv_block(x, filters, kernel_size=(3, 3), padding=\"same\", strides=1):\n",
    "    conv = bn_act(x)\n",
    "    conv = tf.keras.layers.Conv2D(filters, kernel_size, padding=padding, strides=strides)(conv)\n",
    "    return conv \n",
    "\n",
    "def stem(x, filters, kernel_size=(3, 3), padding=\"same\", strides=1):\n",
    "    conv = tf.keras.layers.Conv2D(filters, kernel_size, padding=padding, strides=strides)(x)\n",
    "    conv = conv_block(conv, filters, kernel_size=kernel_size, padding=padding, strides=strides)\n",
    "\n",
    "    shortcut = tf.keras.layers.Conv2D(filters, kernel_size=(1, 1), padding=padding, strides=strides)(x)\n",
    "    shortcut = bn_act(shortcut, act=False)\n",
    "\n",
    "    output = tf.keras.layers.Add()([conv, shortcut])\n",
    "    return output \n",
    "\n",
    "def residual_block(x, filters, kernel_size=(3, 3), padding='same', strides=1):\n",
    "    res = conv_block(x, filters, kernel_size=kernel_size, padding=padding, strides=strides)\n",
    "    res = conv_block(res, filters, kernel_size=kernel_size, padding=padding, strides=1)\n",
    "\n",
    "    shortcut = tf.keras.layers.Conv2D(filters, kernel_size=(1, 1), padding=padding, strides=strides)(x)\n",
    "    shortcut = bn_act(shortcut, act=False)\n",
    "    \n",
    "    output = tf.keras.layers.Add()([shortcut, res])\n",
    "    return output\n",
    "\n",
    "def upsample_concat_block(x, xskip):\n",
    "    u = tf.keras.layers.UpSampling2D((2, 2))(x)\n",
    "    c = tf.keras.layers.Concatenate()([u, xskip])\n",
    "    return c"
   ]
  },
  {
   "cell_type": "code",
   "execution_count": 5,
   "id": "8c5a2d0c",
   "metadata": {},
   "outputs": [],
   "source": [
    "def ResUNet():\n",
    "    f = [16, 32, 64, 128, 256]\n",
    "    inputs = keras.layers.Input((128, 128, 3))\n",
    "\n",
    "    ## ENCODER \n",
    "    e0 = inputs\n",
    "    e1 = stem(e0, f[0])\n",
    "    e2 = residual_block(e1, f[1], strides=2)\n",
    "    e3 = residual_block(e2, f[2], strides=2)\n",
    "    e4 = residual_block(e3, f[3], strides=2)\n",
    "    e5 = residual_block(e4, f[4], strides=2)\n",
    "\n",
    "    # BRIDGE\n",
    "    b0 = conv_block(e5, f[4], strides=1)\n",
    "    b1 = conv_block(b0, f[4], strides=1)\n",
    "\n",
    "    # DECODER \n",
    "    u1 = upsample_concat_block(b1, e4)\n",
    "    d1 = residual_block(u1, f[4])\n",
    "\n",
    "    u2 = upsample_concat_block(d1, e3)\n",
    "    d2 = residual_block(u2, f[3])\n",
    "\n",
    "    u3 = upsample_concat_block(d2, e2)\n",
    "    d3 = residual_block(u3, f[2])\n",
    "\n",
    "    u4 = upsample_concat_block(d3, e1)\n",
    "    d4 = residual_block(u4, f[1])\n",
    "\n",
    "    outputs = keras.layers.Conv2D(3, (1, 1), padding='same', activation='sigmoid')(d4)\n",
    "    model = keras.models.Model(inputs, outputs)\n",
    "    return model"
   ]
  },
  {
   "cell_type": "code",
   "execution_count": 6,
   "id": "2c1ba551",
   "metadata": {
    "collapsed": true
   },
   "outputs": [
    {
     "name": "stderr",
     "output_type": "stream",
     "text": [
      "2022-01-22 18:12:09.538548: I tensorflow/stream_executor/cuda/cuda_gpu_executor.cc:939] successful NUMA node read from SysFS had negative value (-1), but there must be at least one NUMA node, so returning NUMA node zero\n",
      "2022-01-22 18:12:10.352521: I tensorflow/stream_executor/cuda/cuda_gpu_executor.cc:939] successful NUMA node read from SysFS had negative value (-1), but there must be at least one NUMA node, so returning NUMA node zero\n",
      "2022-01-22 18:12:10.354683: I tensorflow/stream_executor/cuda/cuda_gpu_executor.cc:939] successful NUMA node read from SysFS had negative value (-1), but there must be at least one NUMA node, so returning NUMA node zero\n",
      "2022-01-22 18:12:10.368823: I tensorflow/core/platform/cpu_feature_guard.cc:151] This TensorFlow binary is optimized with oneAPI Deep Neural Network Library (oneDNN) to use the following CPU instructions in performance-critical operations:  AVX2 FMA\n",
      "To enable them in other operations, rebuild TensorFlow with the appropriate compiler flags.\n",
      "2022-01-22 18:12:10.387151: I tensorflow/stream_executor/cuda/cuda_gpu_executor.cc:939] successful NUMA node read from SysFS had negative value (-1), but there must be at least one NUMA node, so returning NUMA node zero\n",
      "2022-01-22 18:12:10.387719: I tensorflow/stream_executor/cuda/cuda_gpu_executor.cc:939] successful NUMA node read from SysFS had negative value (-1), but there must be at least one NUMA node, so returning NUMA node zero\n",
      "2022-01-22 18:12:10.388177: I tensorflow/stream_executor/cuda/cuda_gpu_executor.cc:939] successful NUMA node read from SysFS had negative value (-1), but there must be at least one NUMA node, so returning NUMA node zero\n",
      "2022-01-22 18:12:17.374200: I tensorflow/stream_executor/cuda/cuda_gpu_executor.cc:939] successful NUMA node read from SysFS had negative value (-1), but there must be at least one NUMA node, so returning NUMA node zero\n",
      "2022-01-22 18:12:17.374838: I tensorflow/stream_executor/cuda/cuda_gpu_executor.cc:939] successful NUMA node read from SysFS had negative value (-1), but there must be at least one NUMA node, so returning NUMA node zero\n",
      "2022-01-22 18:12:17.375478: I tensorflow/stream_executor/cuda/cuda_gpu_executor.cc:939] successful NUMA node read from SysFS had negative value (-1), but there must be at least one NUMA node, so returning NUMA node zero\n",
      "2022-01-22 18:12:17.375860: I tensorflow/core/common_runtime/gpu/gpu_device.cc:1525] Created device /job:localhost/replica:0/task:0/device:GPU:0 with 3229 MB memory:  -> device: 0, name: NVIDIA GeForce 940MX, pci bus id: 0000:03:00.0, compute capability: 5.0\n"
     ]
    },
    {
     "name": "stdout",
     "output_type": "stream",
     "text": [
      "Model: \"model\"\n",
      "__________________________________________________________________________________________________\n",
      " Layer (type)                   Output Shape         Param #     Connected to                     \n",
      "==================================================================================================\n",
      " input_1 (InputLayer)           [(None, 128, 128, 3  0           []                               \n",
      "                                )]                                                                \n",
      "                                                                                                  \n",
      " conv2d (Conv2D)                (None, 128, 128, 16  448         ['input_1[0][0]']                \n",
      "                                )                                                                 \n",
      "                                                                                                  \n",
      " batch_normalization (BatchNorm  (None, 128, 128, 16  64         ['conv2d[0][0]']                 \n",
      " alization)                     )                                                                 \n",
      "                                                                                                  \n",
      " activation (Activation)        (None, 128, 128, 16  0           ['batch_normalization[0][0]']    \n",
      "                                )                                                                 \n",
      "                                                                                                  \n",
      " conv2d_2 (Conv2D)              (None, 128, 128, 16  64          ['input_1[0][0]']                \n",
      "                                )                                                                 \n",
      "                                                                                                  \n",
      " conv2d_1 (Conv2D)              (None, 128, 128, 16  2320        ['activation[0][0]']             \n",
      "                                )                                                                 \n",
      "                                                                                                  \n",
      " batch_normalization_1 (BatchNo  (None, 128, 128, 16  64         ['conv2d_2[0][0]']               \n",
      " rmalization)                   )                                                                 \n",
      "                                                                                                  \n",
      " add (Add)                      (None, 128, 128, 16  0           ['conv2d_1[0][0]',               \n",
      "                                )                                 'batch_normalization_1[0][0]']  \n",
      "                                                                                                  \n",
      " batch_normalization_2 (BatchNo  (None, 128, 128, 16  64         ['add[0][0]']                    \n",
      " rmalization)                   )                                                                 \n",
      "                                                                                                  \n",
      " activation_1 (Activation)      (None, 128, 128, 16  0           ['batch_normalization_2[0][0]']  \n",
      "                                )                                                                 \n",
      "                                                                                                  \n",
      " conv2d_3 (Conv2D)              (None, 64, 64, 32)   4640        ['activation_1[0][0]']           \n",
      "                                                                                                  \n",
      " batch_normalization_3 (BatchNo  (None, 64, 64, 32)  128         ['conv2d_3[0][0]']               \n",
      " rmalization)                                                                                     \n",
      "                                                                                                  \n",
      " conv2d_5 (Conv2D)              (None, 64, 64, 32)   544         ['add[0][0]']                    \n",
      "                                                                                                  \n",
      " activation_2 (Activation)      (None, 64, 64, 32)   0           ['batch_normalization_3[0][0]']  \n",
      "                                                                                                  \n",
      " batch_normalization_4 (BatchNo  (None, 64, 64, 32)  128         ['conv2d_5[0][0]']               \n",
      " rmalization)                                                                                     \n",
      "                                                                                                  \n",
      " conv2d_4 (Conv2D)              (None, 64, 64, 32)   9248        ['activation_2[0][0]']           \n",
      "                                                                                                  \n",
      " add_1 (Add)                    (None, 64, 64, 32)   0           ['batch_normalization_4[0][0]',  \n",
      "                                                                  'conv2d_4[0][0]']               \n",
      "                                                                                                  \n",
      " batch_normalization_5 (BatchNo  (None, 64, 64, 32)  128         ['add_1[0][0]']                  \n",
      " rmalization)                                                                                     \n",
      "                                                                                                  \n",
      " activation_3 (Activation)      (None, 64, 64, 32)   0           ['batch_normalization_5[0][0]']  \n",
      "                                                                                                  \n",
      " conv2d_6 (Conv2D)              (None, 32, 32, 64)   18496       ['activation_3[0][0]']           \n",
      "                                                                                                  \n",
      " batch_normalization_6 (BatchNo  (None, 32, 32, 64)  256         ['conv2d_6[0][0]']               \n",
      " rmalization)                                                                                     \n",
      "                                                                                                  \n",
      " conv2d_8 (Conv2D)              (None, 32, 32, 64)   2112        ['add_1[0][0]']                  \n",
      "                                                                                                  \n",
      " activation_4 (Activation)      (None, 32, 32, 64)   0           ['batch_normalization_6[0][0]']  \n",
      "                                                                                                  \n",
      " batch_normalization_7 (BatchNo  (None, 32, 32, 64)  256         ['conv2d_8[0][0]']               \n",
      " rmalization)                                                                                     \n",
      "                                                                                                  \n",
      " conv2d_7 (Conv2D)              (None, 32, 32, 64)   36928       ['activation_4[0][0]']           \n",
      "                                                                                                  \n",
      " add_2 (Add)                    (None, 32, 32, 64)   0           ['batch_normalization_7[0][0]',  \n",
      "                                                                  'conv2d_7[0][0]']               \n",
      "                                                                                                  \n",
      " batch_normalization_8 (BatchNo  (None, 32, 32, 64)  256         ['add_2[0][0]']                  \n",
      " rmalization)                                                                                     \n",
      "                                                                                                  \n",
      " activation_5 (Activation)      (None, 32, 32, 64)   0           ['batch_normalization_8[0][0]']  \n",
      "                                                                                                  \n",
      " conv2d_9 (Conv2D)              (None, 16, 16, 128)  73856       ['activation_5[0][0]']           \n",
      "                                                                                                  \n",
      " batch_normalization_9 (BatchNo  (None, 16, 16, 128)  512        ['conv2d_9[0][0]']               \n",
      " rmalization)                                                                                     \n",
      "                                                                                                  \n",
      " conv2d_11 (Conv2D)             (None, 16, 16, 128)  8320        ['add_2[0][0]']                  \n",
      "                                                                                                  \n",
      " activation_6 (Activation)      (None, 16, 16, 128)  0           ['batch_normalization_9[0][0]']  \n",
      "                                                                                                  \n",
      " batch_normalization_10 (BatchN  (None, 16, 16, 128)  512        ['conv2d_11[0][0]']              \n",
      " ormalization)                                                                                    \n",
      "                                                                                                  \n",
      " conv2d_10 (Conv2D)             (None, 16, 16, 128)  147584      ['activation_6[0][0]']           \n",
      "                                                                                                  \n",
      " add_3 (Add)                    (None, 16, 16, 128)  0           ['batch_normalization_10[0][0]', \n",
      "                                                                  'conv2d_10[0][0]']              \n",
      "                                                                                                  \n",
      " batch_normalization_11 (BatchN  (None, 16, 16, 128)  512        ['add_3[0][0]']                  \n",
      " ormalization)                                                                                    \n",
      "                                                                                                  \n",
      " activation_7 (Activation)      (None, 16, 16, 128)  0           ['batch_normalization_11[0][0]'] \n",
      "                                                                                                  \n",
      " conv2d_12 (Conv2D)             (None, 8, 8, 256)    295168      ['activation_7[0][0]']           \n",
      "                                                                                                  \n",
      " batch_normalization_12 (BatchN  (None, 8, 8, 256)   1024        ['conv2d_12[0][0]']              \n",
      " ormalization)                                                                                    \n",
      "                                                                                                  \n",
      " conv2d_14 (Conv2D)             (None, 8, 8, 256)    33024       ['add_3[0][0]']                  \n",
      "                                                                                                  \n",
      " activation_8 (Activation)      (None, 8, 8, 256)    0           ['batch_normalization_12[0][0]'] \n",
      "                                                                                                  \n",
      " batch_normalization_13 (BatchN  (None, 8, 8, 256)   1024        ['conv2d_14[0][0]']              \n",
      " ormalization)                                                                                    \n",
      "                                                                                                  \n",
      " conv2d_13 (Conv2D)             (None, 8, 8, 256)    590080      ['activation_8[0][0]']           \n",
      "                                                                                                  \n",
      " add_4 (Add)                    (None, 8, 8, 256)    0           ['batch_normalization_13[0][0]', \n",
      "                                                                  'conv2d_13[0][0]']              \n",
      "                                                                                                  \n",
      " batch_normalization_14 (BatchN  (None, 8, 8, 256)   1024        ['add_4[0][0]']                  \n",
      " ormalization)                                                                                    \n",
      "                                                                                                  \n",
      " activation_9 (Activation)      (None, 8, 8, 256)    0           ['batch_normalization_14[0][0]'] \n",
      "                                                                                                  \n",
      " conv2d_15 (Conv2D)             (None, 8, 8, 256)    590080      ['activation_9[0][0]']           \n",
      "                                                                                                  \n",
      " batch_normalization_15 (BatchN  (None, 8, 8, 256)   1024        ['conv2d_15[0][0]']              \n",
      " ormalization)                                                                                    \n",
      "                                                                                                  \n",
      " activation_10 (Activation)     (None, 8, 8, 256)    0           ['batch_normalization_15[0][0]'] \n",
      "                                                                                                  \n",
      " conv2d_16 (Conv2D)             (None, 8, 8, 256)    590080      ['activation_10[0][0]']          \n",
      "                                                                                                  \n",
      " up_sampling2d (UpSampling2D)   (None, 16, 16, 256)  0           ['conv2d_16[0][0]']              \n",
      "                                                                                                  \n",
      " concatenate (Concatenate)      (None, 16, 16, 384)  0           ['up_sampling2d[0][0]',          \n",
      "                                                                  'add_3[0][0]']                  \n",
      "                                                                                                  \n",
      " batch_normalization_16 (BatchN  (None, 16, 16, 384)  1536       ['concatenate[0][0]']            \n",
      " ormalization)                                                                                    \n",
      "                                                                                                  \n",
      " activation_11 (Activation)     (None, 16, 16, 384)  0           ['batch_normalization_16[0][0]'] \n",
      "                                                                                                  \n",
      " conv2d_17 (Conv2D)             (None, 16, 16, 256)  884992      ['activation_11[0][0]']          \n",
      "                                                                                                  \n",
      " batch_normalization_17 (BatchN  (None, 16, 16, 256)  1024       ['conv2d_17[0][0]']              \n",
      " ormalization)                                                                                    \n",
      "                                                                                                  \n",
      " conv2d_19 (Conv2D)             (None, 16, 16, 256)  98560       ['concatenate[0][0]']            \n",
      "                                                                                                  \n",
      " activation_12 (Activation)     (None, 16, 16, 256)  0           ['batch_normalization_17[0][0]'] \n",
      "                                                                                                  \n",
      " batch_normalization_18 (BatchN  (None, 16, 16, 256)  1024       ['conv2d_19[0][0]']              \n",
      " ormalization)                                                                                    \n",
      "                                                                                                  \n",
      " conv2d_18 (Conv2D)             (None, 16, 16, 256)  590080      ['activation_12[0][0]']          \n",
      "                                                                                                  \n",
      " add_5 (Add)                    (None, 16, 16, 256)  0           ['batch_normalization_18[0][0]', \n",
      "                                                                  'conv2d_18[0][0]']              \n",
      "                                                                                                  \n",
      " up_sampling2d_1 (UpSampling2D)  (None, 32, 32, 256)  0          ['add_5[0][0]']                  \n",
      "                                                                                                  \n",
      " concatenate_1 (Concatenate)    (None, 32, 32, 320)  0           ['up_sampling2d_1[0][0]',        \n",
      "                                                                  'add_2[0][0]']                  \n",
      "                                                                                                  \n",
      " batch_normalization_19 (BatchN  (None, 32, 32, 320)  1280       ['concatenate_1[0][0]']          \n",
      " ormalization)                                                                                    \n",
      "                                                                                                  \n",
      " activation_13 (Activation)     (None, 32, 32, 320)  0           ['batch_normalization_19[0][0]'] \n",
      "                                                                                                  \n",
      " conv2d_20 (Conv2D)             (None, 32, 32, 128)  368768      ['activation_13[0][0]']          \n",
      "                                                                                                  \n",
      " batch_normalization_20 (BatchN  (None, 32, 32, 128)  512        ['conv2d_20[0][0]']              \n",
      " ormalization)                                                                                    \n",
      "                                                                                                  \n",
      " conv2d_22 (Conv2D)             (None, 32, 32, 128)  41088       ['concatenate_1[0][0]']          \n",
      "                                                                                                  \n",
      " activation_14 (Activation)     (None, 32, 32, 128)  0           ['batch_normalization_20[0][0]'] \n",
      "                                                                                                  \n",
      " batch_normalization_21 (BatchN  (None, 32, 32, 128)  512        ['conv2d_22[0][0]']              \n",
      " ormalization)                                                                                    \n",
      "                                                                                                  \n",
      " conv2d_21 (Conv2D)             (None, 32, 32, 128)  147584      ['activation_14[0][0]']          \n",
      "                                                                                                  \n",
      " add_6 (Add)                    (None, 32, 32, 128)  0           ['batch_normalization_21[0][0]', \n",
      "                                                                  'conv2d_21[0][0]']              \n",
      "                                                                                                  \n",
      " up_sampling2d_2 (UpSampling2D)  (None, 64, 64, 128)  0          ['add_6[0][0]']                  \n",
      "                                                                                                  \n",
      " concatenate_2 (Concatenate)    (None, 64, 64, 160)  0           ['up_sampling2d_2[0][0]',        \n",
      "                                                                  'add_1[0][0]']                  \n",
      "                                                                                                  \n",
      " batch_normalization_22 (BatchN  (None, 64, 64, 160)  640        ['concatenate_2[0][0]']          \n",
      " ormalization)                                                                                    \n",
      "                                                                                                  \n",
      " activation_15 (Activation)     (None, 64, 64, 160)  0           ['batch_normalization_22[0][0]'] \n",
      "                                                                                                  \n",
      " conv2d_23 (Conv2D)             (None, 64, 64, 64)   92224       ['activation_15[0][0]']          \n",
      "                                                                                                  \n",
      " batch_normalization_23 (BatchN  (None, 64, 64, 64)  256         ['conv2d_23[0][0]']              \n",
      " ormalization)                                                                                    \n",
      "                                                                                                  \n",
      " conv2d_25 (Conv2D)             (None, 64, 64, 64)   10304       ['concatenate_2[0][0]']          \n",
      "                                                                                                  \n",
      " activation_16 (Activation)     (None, 64, 64, 64)   0           ['batch_normalization_23[0][0]'] \n",
      "                                                                                                  \n",
      " batch_normalization_24 (BatchN  (None, 64, 64, 64)  256         ['conv2d_25[0][0]']              \n",
      " ormalization)                                                                                    \n",
      "                                                                                                  \n",
      " conv2d_24 (Conv2D)             (None, 64, 64, 64)   36928       ['activation_16[0][0]']          \n",
      "                                                                                                  \n",
      " add_7 (Add)                    (None, 64, 64, 64)   0           ['batch_normalization_24[0][0]', \n",
      "                                                                  'conv2d_24[0][0]']              \n",
      "                                                                                                  \n",
      " up_sampling2d_3 (UpSampling2D)  (None, 128, 128, 64  0          ['add_7[0][0]']                  \n",
      "                                )                                                                 \n",
      "                                                                                                  \n",
      " concatenate_3 (Concatenate)    (None, 128, 128, 80  0           ['up_sampling2d_3[0][0]',        \n",
      "                                )                                 'add[0][0]']                    \n",
      "                                                                                                  \n",
      " batch_normalization_25 (BatchN  (None, 128, 128, 80  320        ['concatenate_3[0][0]']          \n",
      " ormalization)                  )                                                                 \n",
      "                                                                                                  \n",
      " activation_17 (Activation)     (None, 128, 128, 80  0           ['batch_normalization_25[0][0]'] \n",
      "                                )                                                                 \n",
      "                                                                                                  \n",
      " conv2d_26 (Conv2D)             (None, 128, 128, 32  23072       ['activation_17[0][0]']          \n",
      "                                )                                                                 \n",
      "                                                                                                  \n",
      " batch_normalization_26 (BatchN  (None, 128, 128, 32  128        ['conv2d_26[0][0]']              \n",
      " ormalization)                  )                                                                 \n",
      "                                                                                                  \n",
      " conv2d_28 (Conv2D)             (None, 128, 128, 32  2592        ['concatenate_3[0][0]']          \n",
      "                                )                                                                 \n",
      "                                                                                                  \n",
      " activation_18 (Activation)     (None, 128, 128, 32  0           ['batch_normalization_26[0][0]'] \n",
      "                                )                                                                 \n",
      "                                                                                                  \n",
      " batch_normalization_27 (BatchN  (None, 128, 128, 32  128        ['conv2d_28[0][0]']              \n",
      " ormalization)                  )                                                                 \n",
      "                                                                                                  \n",
      " conv2d_27 (Conv2D)             (None, 128, 128, 32  9248        ['activation_18[0][0]']          \n",
      "                                )                                                                 \n",
      "                                                                                                  \n",
      " add_8 (Add)                    (None, 128, 128, 32  0           ['batch_normalization_27[0][0]', \n",
      "                                )                                 'conv2d_27[0][0]']              \n",
      "                                                                                                  \n",
      " conv2d_29 (Conv2D)             (None, 128, 128, 3)  99          ['add_8[0][0]']                  \n",
      "                                                                                                  \n",
      "==================================================================================================\n",
      "Total params: 4,723,123\n",
      "Trainable params: 4,715,827\n",
      "Non-trainable params: 7,296\n",
      "__________________________________________________________________________________________________\n"
     ]
    }
   ],
   "source": [
    "model = ResUNet()\n",
    "model.summary()"
   ]
  },
  {
   "cell_type": "code",
   "execution_count": 7,
   "id": "f11ea353",
   "metadata": {},
   "outputs": [],
   "source": [
    "model.compile(optimizer='adam',loss='binary_crossentropy',metrics=[dice_coef])"
   ]
  },
  {
   "cell_type": "code",
   "execution_count": 8,
   "id": "55983bb7",
   "metadata": {
    "scrolled": false
   },
   "outputs": [
    {
     "name": "stdout",
     "output_type": "stream",
     "text": [
      "Epoch 1/10\n"
     ]
    },
    {
     "name": "stderr",
     "output_type": "stream",
     "text": [
      "2022-01-22 18:12:31.672573: I tensorflow/stream_executor/cuda/cuda_dnn.cc:366] Loaded cuDNN version 8202\n",
      "2022-01-22 18:12:54.122704: W tensorflow/core/common_runtime/bfc_allocator.cc:275] Allocator (GPU_0_bfc) ran out of memory trying to allocate 1.91GiB with freed_by_count=0. The caller indicates that this is not a failure, but may mean that there could be performance gains if more memory were available.\n",
      "2022-01-22 18:12:57.102813: W tensorflow/core/common_runtime/bfc_allocator.cc:275] Allocator (GPU_0_bfc) ran out of memory trying to allocate 1.53GiB with freed_by_count=0. The caller indicates that this is not a failure, but may mean that there could be performance gains if more memory were available.\n"
     ]
    },
    {
     "name": "stdout",
     "output_type": "stream",
     "text": [
      "109/109 [==============================] - 220s 2s/step - loss: 0.0408 - dice_coef: 0.4496 - val_loss: 0.0229 - val_dice_coef: 0.0769\n",
      "Epoch 2/10\n",
      "109/109 [==============================] - 165s 2s/step - loss: 0.0036 - dice_coef: 0.7275 - val_loss: 0.0129 - val_dice_coef: 0.2413\n",
      "Epoch 3/10\n",
      "109/109 [==============================] - 171s 2s/step - loss: 0.0026 - dice_coef: 0.8061 - val_loss: 0.0064 - val_dice_coef: 0.5713\n",
      "Epoch 4/10\n",
      "109/109 [==============================] - 196s 2s/step - loss: 0.0020 - dice_coef: 0.8427 - val_loss: 0.0090 - val_dice_coef: 0.5523\n",
      "Epoch 5/10\n",
      "109/109 [==============================] - 182s 2s/step - loss: 0.0018 - dice_coef: 0.8588 - val_loss: 0.0067 - val_dice_coef: 0.6697\n",
      "Epoch 6/10\n",
      "109/109 [==============================] - 174s 2s/step - loss: 0.0013 - dice_coef: 0.8941 - val_loss: 0.0071 - val_dice_coef: 0.6616\n",
      "Epoch 7/10\n",
      "109/109 [==============================] - 165s 2s/step - loss: 0.0018 - dice_coef: 0.8652 - val_loss: 0.0087 - val_dice_coef: 0.6097\n",
      "Epoch 8/10\n",
      "109/109 [==============================] - 170s 2s/step - loss: 0.0012 - dice_coef: 0.9091 - val_loss: 0.0065 - val_dice_coef: 0.6990\n",
      "Epoch 9/10\n",
      "109/109 [==============================] - 166s 2s/step - loss: 0.0013 - dice_coef: 0.9019 - val_loss: 0.0059 - val_dice_coef: 0.7223\n",
      "Epoch 10/10\n",
      "109/109 [==============================] - 166s 2s/step - loss: 0.0011 - dice_coef: 0.9101 - val_loss: 0.0072 - val_dice_coef: 0.7092\n"
     ]
    },
    {
     "data": {
      "text/plain": [
       "<keras.callbacks.History at 0x7efc08075d60>"
      ]
     },
     "execution_count": 8,
     "metadata": {},
     "output_type": "execute_result"
    }
   ],
   "source": [
    "model.fit(X_Train, Y_Train, validation_data = (X_Test,Y_Test),verbose=1, batch_size=16, epochs=10)"
   ]
  },
  {
   "cell_type": "code",
   "execution_count": 26,
   "id": "73379748",
   "metadata": {},
   "outputs": [
    {
     "data": {
      "image/png": "[encoded data removed]",
      "text/plain": [
       "<Figure size 432x288 with 1 Axes>"
      ]
     },
     "metadata": {
      "needs_background": "light"
     },
     "output_type": "display_data"
    }
   ],
   "source": [
    "X_ = []\n",
    "img_path = Path('Data/img1.png')\n",
    "imggX = image.load_img(img_path,target_size=(128,128))\n",
    "img_arrayX = image.img_to_array(imggX)\n",
    "X_.append(img_arrayX)\n",
    "X_ = np.array(X_)\n",
    "Y_ = model.predict(X_)\n",
    "from matplotlib import pyplot as plt\n",
    "def plot_img(data):\n",
    "    plt.imshow(data, interpolation='nearest')\n",
    "    plt.show()\n",
    "plot_img(Y_[0])"
   ]
  },
  {
   "cell_type": "markdown",
   "id": "0af0b7eb",
   "metadata": {},
   "source": [
    "### Image Segmentation using Contour Detection"
   ]
  },
  {
   "cell_type": "code",
   "execution_count": 28,
   "id": "1af55c81",
   "metadata": {},
   "outputs": [],
   "source": [
    "# canny edge detection\n",
    "import cv2\n",
    "img = cv2.imread('img1.png')\n",
    "img = cv2.resize(img,(256,256))\n",
    "gray = cv2.cvtColor(img,cv2.COLOR_RGB2GRAY)\n",
    "_,thresh = cv2.threshold(gray, np.mean(gray), 255, cv2.THRESH_BINARY_INV)\n",
    "edges = cv2.dilate(cv2.Canny(thresh,0,255),None)"
   ]
  },
  {
   "cell_type": "code",
   "execution_count": 29,
   "id": "370b83e8",
   "metadata": {
    "scrolled": true
   },
   "outputs": [
    {
     "data": {
      "image/png": "[encoded data removed]",
      "text/plain": [
       "<Figure size 432x288 with 1 Axes>"
      ]
     },
     "metadata": {
      "needs_background": "light"
     },
     "output_type": "display_data"
    }
   ],
   "source": [
    "plot_img(edges)"
   ]
  },
  {
   "cell_type": "code",
   "execution_count": 31,
   "id": "5279fe72",
   "metadata": {},
   "outputs": [],
   "source": [
    "#detecting contours \n",
    "cnt = sorted(cv2.findContours(edges, cv2.RETR_LIST, cv2.CHAIN_APPROX_SIMPLE)[-2], key=cv2.contourArea)[-1]\n",
    "mask = np.zeros((256,256), np.uint8)\n",
    "masked = cv2.drawContours(mask, [cnt],-1, 255, -1)"
   ]
  },
  {
   "cell_type": "code",
   "execution_count": 32,
   "id": "bdbca20e",
   "metadata": {},
   "outputs": [
    {
     "data": {
      "image/png": "[encoded data removed]",
      "text/plain": [
       "<Figure size 432x288 with 1 Axes>"
      ]
     },
     "metadata": {
      "needs_background": "light"
     },
     "output_type": "display_data"
    }
   ],
   "source": [
    "plot_img(masked)"
   ]
  },
  {
   "cell_type": "code",
   "execution_count": 33,
   "id": "4c9ef6c8",
   "metadata": {},
   "outputs": [],
   "source": [
    "dst = cv2.bitwise_and(img, img, mask=mask)\n",
    "segmented = cv2.cvtColor(dst, cv2.COLOR_BGR2RGB)"
   ]
  },
  {
   "cell_type": "code",
   "execution_count": 34,
   "id": "75c1a533",
   "metadata": {},
   "outputs": [
    {
     "data": {
      "image/png": "[encoded data removed]",
      "text/plain": [
       "<Figure size 432x288 with 1 Axes>"
      ]
     },
     "metadata": {
      "needs_background": "light"
     },
     "output_type": "display_data"
    }
   ],
   "source": [
    "#Segmentation\n",
    "plot_img(segmented)"
   ]
  },
  {
   "cell_type": "markdown",
   "id": "4f2a6110",
   "metadata": {},
   "source": [
    "### Image Segmentation using Thresholding"
   ]
  },
  {
   "cell_type": "code",
   "execution_count": 36,
   "id": "b1ed664c",
   "metadata": {},
   "outputs": [],
   "source": [
    "from skimage.filters import threshold_otsu\n",
    "img = cv2.imread('img1.png')\n",
    "img_rgb=cv2.cvtColor(img,cv2.COLOR_BGR2RGB)\n",
    "img_gray=cv2.cvtColor(img_rgb,cv2.COLOR_RGB2GRAY)\n",
    "def filter_image(image, mask):\n",
    "    r = image[:,:,0] * mask\n",
    "    g = image[:,:,1] * mask\n",
    "    b = image[:,:,2] * mask\n",
    "    return np.dstack([r,g,b])\n",
    "\n",
    "thresh = threshold_otsu(img_gray)\n",
    "img_otsu  = img_gray < thresh\n",
    "filtered = filter_image(img, img_otsu)"
   ]
  },
  {
   "cell_type": "code",
   "execution_count": 37,
   "id": "8f0b3287",
   "metadata": {},
   "outputs": [
    {
     "data": {
      "image/png": "[encoded data removed]",
      "text/plain": [
       "<Figure size 432x288 with 1 Axes>"
      ]
     },
     "metadata": {
      "needs_background": "light"
     },
     "output_type": "display_data"
    }
   ],
   "source": [
    "plot_img(filtered)"
   ]
  },
  {
   "cell_type": "markdown",
   "id": "abd6b801",
   "metadata": {},
   "source": [
    "###  Image Segmentation using K-means"
   ]
  },
  {
   "cell_type": "code",
   "execution_count": 41,
   "id": "159c7d4a",
   "metadata": {},
   "outputs": [],
   "source": [
    "img = cv2.imread('img1.png')\n",
    "img = cv2.cvtColor(img,cv2.COLOR_BGR2RGB)\n",
    "twoDimage = img.reshape((-1,3))\n",
    "twoDimage = np.float32(twoDimage)\n",
    "criteria = (cv2.TERM_CRITERIA_EPS + cv2.TERM_CRITERIA_MAX_ITER, 10, 1.0)\n",
    "K = 2\n",
    "attempts=10\n",
    "ret,label,center=cv2.kmeans(twoDimage,K,None,criteria,attempts,cv2.KMEANS_PP_CENTERS)\n",
    "center = np.uint8(center)\n",
    "res = center[label.flatten()]\n",
    "result_image = res.reshape((img.shape))"
   ]
  },
  {
   "cell_type": "code",
   "execution_count": 42,
   "id": "ca96e734",
   "metadata": {},
   "outputs": [
    {
     "data": {
      "image/png": "[encoded data removed]",
      "text/plain": [
       "<Figure size 432x288 with 1 Axes>"
      ]
     },
     "metadata": {
      "needs_background": "light"
     },
     "output_type": "display_data"
    }
   ],
   "source": [
    "plot_img(result_image)"
   ]
  },
  {
   "cell_type": "markdown",
   "id": "0c6d9b4f",
   "metadata": {},
   "source": [
    "### Prediction Parameters"
   ]
  },
  {
   "cell_type": "code",
   "execution_count": 44,
   "id": "ea794f73",
   "metadata": {},
   "outputs": [
    {
     "name": "stderr",
     "output_type": "stream",
     "text": [
      "2022-01-22 20:09:10.572204: W tensorflow/core/common_runtime/bfc_allocator.cc:275] Allocator (GPU_0_bfc) ran out of memory trying to allocate 2.54GiB with freed_by_count=0. The caller indicates that this is not a failure, but may mean that there could be performance gains if more memory were available.\n",
      "2022-01-22 20:09:36.168487: W tensorflow/core/common_runtime/bfc_allocator.cc:275] Allocator (GPU_0_bfc) ran out of memory trying to allocate 2.46GiB with freed_by_count=0. The caller indicates that this is not a failure, but may mean that there could be performance gains if more memory were available.\n"
     ]
    }
   ],
   "source": [
    "test_pred = model.predict(X_Test, batch_size=32) \n",
    "test_result = np.zeros(test_pred.shape)\n",
    "test_result[test_pred>0.5] = 1\n",
    "test_result[test_pred<=0.5] = 0\n",
    "dice = dc(test_result, Y_Test)\n",
    "pre  = precision(test_result,Y_Test)\n",
    "re   = recall(test_result,Y_Test)"
   ]
  },
  {
   "cell_type": "code",
   "execution_count": 45,
   "id": "5b296080",
   "metadata": {},
   "outputs": [
    {
     "name": "stdout",
     "output_type": "stream",
     "text": [
      "Dice of the model is:  0.7354318860277165\n",
      "Precision of the model is:  0.8748827070491259\n",
      "Recall of the model is:  0.6343245308296962\n"
     ]
    }
   ],
   "source": [
    "print(\"Dice of the model is: \",dice)\n",
    "print(\"Precision of the model is: \",pre)\n",
    "print(\"Recall of the model is: \",re)"
   ]
  },
  {
   "cell_type": "code",
   "execution_count": 9,
   "id": "25f82369",
   "metadata": {},
   "outputs": [],
   "source": [
    "model.save_weights('resunet_dice74_10epochs.h5')"
   ]
  },
  {
   "cell_type": "markdown",
   "id": "52f51dea",
   "metadata": {},
   "source": [
    "## U-Net Model"
   ]
  },
  {
   "cell_type": "code",
   "execution_count": 17,
   "id": "b7b049d1",
   "metadata": {},
   "outputs": [],
   "source": [
    "def U_Net():\n",
    "\n",
    "    inputs=Input((160,160,3))\n",
    "    conv1 = Conv2D(32, 3, activation = 'elu', padding = 'same',kernel_initializer='he_normal')(inputs)\n",
    "    conv1 = Conv2D(32, 3, activation = 'elu', padding = 'same',kernel_initializer='he_normal')(conv1)\n",
    "    conv1 = BatchNormalization()(conv1)\n",
    "    pool1 = MaxPooling2D(pool_size=(2, 2))(conv1)\n",
    "        \n",
    "    \n",
    "    conv2 = Conv2D(64, 3, activation = 'elu', padding = 'same',kernel_initializer='he_normal')(pool1)\n",
    "    conv2 = Conv2D(64, 3, activation = 'elu', padding = 'same',kernel_initializer='he_normal')(conv2)\n",
    "    conv2 = BatchNormalization()(conv2)\n",
    "    pool2 = MaxPooling2D(pool_size=(2, 2))(conv2)\n",
    "       \n",
    "    \n",
    "    conv3 = Conv2D(128, 3, activation = 'elu', padding = 'same',kernel_initializer='he_normal')(pool2)\n",
    "    conv3 = Conv2D(128, 3, activation = 'elu', padding = 'same',kernel_initializer='he_normal')(conv3)\n",
    "    conv3 = BatchNormalization()(conv3)\n",
    "    pool3 = MaxPooling2D(pool_size=(2, 2))(conv3)\n",
    "    \n",
    "   \n",
    "    conv4 = Conv2D(256, 3, activation = 'elu', padding = 'same',kernel_initializer='he_normal')(pool3)\n",
    "    conv4 = Conv2D(256, 3,activation = 'elu',  padding = 'same',kernel_initializer='he_normal')(conv4)\n",
    "    conv4 = BatchNormalization()(conv4)\n",
    "      \n",
    "    merge7 = concatenate([Conv2DTranspose(128, (2, 2), strides=(2, 2), padding='same')(conv4), conv3], axis=3)\n",
    "    \n",
    "    conv7 = Conv2D(128, 3, activation = 'elu', padding = 'same',kernel_initializer='he_normal')(merge7)\n",
    "    conv7 = Dropout(0.5)(conv7)\n",
    "    conv7 = Conv2D(128, 3, activation = 'elu', padding = 'same',kernel_initializer='he_normal')(conv7)\n",
    "    conv7 = BatchNormalization()(conv7)\n",
    "    \n",
    "    \n",
    "    merge8 = concatenate([Conv2DTranspose(64, (2, 2), strides=(2, 2), padding='same')(conv7), conv2], axis=3)\n",
    "    \n",
    "    conv8 = Conv2D(64, 3, activation = 'elu', padding = 'same',kernel_initializer='he_normal')(merge8)\n",
    "    conv8 = Conv2D(64, 3, activation = 'elu', padding = 'same',kernel_initializer='he_normal')(conv8)\n",
    "    conv8 = BatchNormalization()(conv8)\n",
    "    \n",
    "    merge9 = concatenate([Conv2DTranspose(32, (2, 2), strides=(2, 2), padding='same')(conv8), conv1], axis=3)\n",
    "    \n",
    "    conv9 = Conv2D(32, 3, activation = 'elu', padding = 'same',kernel_initializer='he_normal')(merge9)\n",
    "    conv9 = Conv2D(32, 3, activation = 'elu', padding = 'same',kernel_initializer='he_normal')(conv9)\n",
    "    conv9 = BatchNormalization()(conv9)\n",
    "    conv10= Conv2D(3, 1, activation = 'sigmoid')(conv9)\n",
    "    \n",
    "    model = Model(inputs = inputs, outputs = conv10)\n",
    "    \n",
    "    return model"
   ]
  },
  {
   "cell_type": "code",
   "execution_count": 18,
   "id": "a650e9ab",
   "metadata": {
    "collapsed": true
   },
   "outputs": [
    {
     "name": "stdout",
     "output_type": "stream",
     "text": [
      "Model: \"model_1\"\n",
      "__________________________________________________________________________________________________\n",
      " Layer (type)                   Output Shape         Param #     Connected to                     \n",
      "==================================================================================================\n",
      " input_2 (InputLayer)           [(None, 160, 160, 3  0           []                               \n",
      "                                )]                                                                \n",
      "                                                                                                  \n",
      " conv2d_30 (Conv2D)             (None, 160, 160, 32  896         ['input_2[0][0]']                \n",
      "                                )                                                                 \n",
      "                                                                                                  \n",
      " conv2d_31 (Conv2D)             (None, 160, 160, 32  9248        ['conv2d_30[0][0]']              \n",
      "                                )                                                                 \n",
      "                                                                                                  \n",
      " batch_normalization_28 (BatchN  (None, 160, 160, 32  128        ['conv2d_31[0][0]']              \n",
      " ormalization)                  )                                                                 \n",
      "                                                                                                  \n",
      " max_pooling2d (MaxPooling2D)   (None, 80, 80, 32)   0           ['batch_normalization_28[0][0]'] \n",
      "                                                                                                  \n",
      " conv2d_32 (Conv2D)             (None, 80, 80, 64)   18496       ['max_pooling2d[0][0]']          \n",
      "                                                                                                  \n",
      " conv2d_33 (Conv2D)             (None, 80, 80, 64)   36928       ['conv2d_32[0][0]']              \n",
      "                                                                                                  \n",
      " batch_normalization_29 (BatchN  (None, 80, 80, 64)  256         ['conv2d_33[0][0]']              \n",
      " ormalization)                                                                                    \n",
      "                                                                                                  \n",
      " max_pooling2d_1 (MaxPooling2D)  (None, 40, 40, 64)  0           ['batch_normalization_29[0][0]'] \n",
      "                                                                                                  \n",
      " conv2d_34 (Conv2D)             (None, 40, 40, 128)  73856       ['max_pooling2d_1[0][0]']        \n",
      "                                                                                                  \n",
      " conv2d_35 (Conv2D)             (None, 40, 40, 128)  147584      ['conv2d_34[0][0]']              \n",
      "                                                                                                  \n",
      " batch_normalization_30 (BatchN  (None, 40, 40, 128)  512        ['conv2d_35[0][0]']              \n",
      " ormalization)                                                                                    \n",
      "                                                                                                  \n",
      " max_pooling2d_2 (MaxPooling2D)  (None, 20, 20, 128)  0          ['batch_normalization_30[0][0]'] \n",
      "                                                                                                  \n",
      " conv2d_36 (Conv2D)             (None, 20, 20, 256)  295168      ['max_pooling2d_2[0][0]']        \n",
      "                                                                                                  \n",
      " conv2d_37 (Conv2D)             (None, 20, 20, 256)  590080      ['conv2d_36[0][0]']              \n",
      "                                                                                                  \n",
      " batch_normalization_31 (BatchN  (None, 20, 20, 256)  1024       ['conv2d_37[0][0]']              \n",
      " ormalization)                                                                                    \n",
      "                                                                                                  \n",
      " conv2d_transpose (Conv2DTransp  (None, 40, 40, 128)  131200     ['batch_normalization_31[0][0]'] \n",
      " ose)                                                                                             \n",
      "                                                                                                  \n",
      " concatenate_4 (Concatenate)    (None, 40, 40, 256)  0           ['conv2d_transpose[0][0]',       \n",
      "                                                                  'batch_normalization_30[0][0]'] \n",
      "                                                                                                  \n",
      " conv2d_38 (Conv2D)             (None, 40, 40, 128)  295040      ['concatenate_4[0][0]']          \n",
      "                                                                                                  \n",
      " dropout (Dropout)              (None, 40, 40, 128)  0           ['conv2d_38[0][0]']              \n",
      "                                                                                                  \n",
      " conv2d_39 (Conv2D)             (None, 40, 40, 128)  147584      ['dropout[0][0]']                \n",
      "                                                                                                  \n",
      " batch_normalization_32 (BatchN  (None, 40, 40, 128)  512        ['conv2d_39[0][0]']              \n",
      " ormalization)                                                                                    \n",
      "                                                                                                  \n",
      " conv2d_transpose_1 (Conv2DTran  (None, 80, 80, 64)  32832       ['batch_normalization_32[0][0]'] \n",
      " spose)                                                                                           \n",
      "                                                                                                  \n",
      " concatenate_5 (Concatenate)    (None, 80, 80, 128)  0           ['conv2d_transpose_1[0][0]',     \n",
      "                                                                  'batch_normalization_29[0][0]'] \n",
      "                                                                                                  \n",
      " conv2d_40 (Conv2D)             (None, 80, 80, 64)   73792       ['concatenate_5[0][0]']          \n",
      "                                                                                                  \n",
      " conv2d_41 (Conv2D)             (None, 80, 80, 64)   36928       ['conv2d_40[0][0]']              \n",
      "                                                                                                  \n",
      " batch_normalization_33 (BatchN  (None, 80, 80, 64)  256         ['conv2d_41[0][0]']              \n",
      " ormalization)                                                                                    \n",
      "                                                                                                  \n",
      " conv2d_transpose_2 (Conv2DTran  (None, 160, 160, 32  8224       ['batch_normalization_33[0][0]'] \n",
      " spose)                         )                                                                 \n",
      "                                                                                                  \n",
      " concatenate_6 (Concatenate)    (None, 160, 160, 64  0           ['conv2d_transpose_2[0][0]',     \n",
      "                                )                                 'batch_normalization_28[0][0]'] \n",
      "                                                                                                  \n",
      " conv2d_42 (Conv2D)             (None, 160, 160, 32  18464       ['concatenate_6[0][0]']          \n",
      "                                )                                                                 \n",
      "                                                                                                  \n",
      " conv2d_43 (Conv2D)             (None, 160, 160, 32  9248        ['conv2d_42[0][0]']              \n",
      "                                )                                                                 \n",
      "                                                                                                  \n",
      " batch_normalization_34 (BatchN  (None, 160, 160, 32  128        ['conv2d_43[0][0]']              \n",
      " ormalization)                  )                                                                 \n",
      "                                                                                                  \n",
      " conv2d_44 (Conv2D)             (None, 160, 160, 3)  99          ['batch_normalization_34[0][0]'] \n",
      "                                                                                                  \n",
      "==================================================================================================\n",
      "Total params: 1,928,483\n",
      "Trainable params: 1,927,075\n",
      "Non-trainable params: 1,408\n",
      "__________________________________________________________________________________________________\n"
     ]
    }
   ],
   "source": [
    "model_new = U_Net()\n",
    "model_new.summary()"
   ]
  },
  {
   "cell_type": "code",
   "execution_count": 19,
   "id": "0f6d70a7",
   "metadata": {},
   "outputs": [],
   "source": [
    "smooth=1\n",
    "def dice_coef(y_true, y_pred):\n",
    "    y_true_f = K.flatten(y_true)\n",
    "    y_pred_f = K.flatten(y_pred)\n",
    "    intersection = K.sum(y_true_f * y_pred_f)\n",
    "    return (2. * intersection + smooth) / (K.sum(y_true_f) + K.sum(y_pred_f) + smooth)"
   ]
  },
  {
   "cell_type": "code",
   "execution_count": 20,
   "id": "dcc1d750",
   "metadata": {},
   "outputs": [
    {
     "name": "stderr",
     "output_type": "stream",
     "text": [
      "/home/anirudh/anaconda3/lib/python3.9/site-packages/keras/optimizer_v2/adam.py:105: UserWarning: The `lr` argument is deprecated, use `learning_rate` instead.\n",
      "  super(Adam, self).__init__(name, **kwargs)\n"
     ]
    }
   ],
   "source": [
    "optimizer=tf.keras.optimizers.Adam(lr=0.001, beta_1=0.9, beta_2=0.999, epsilon=None, decay=0.0, amsgrad=True)\n",
    "model_new.compile(loss=['categorical_crossentropy'], optimizer=optimizer, metrics=[dice_coef,'accuracy'])"
   ]
  },
  {
   "cell_type": "markdown",
   "id": "16eb10ad",
   "metadata": {},
   "source": [
    "### Training the U-Net Model"
   ]
  },
  {
   "cell_type": "code",
   "execution_count": 10,
   "id": "a15c8b85",
   "metadata": {},
   "outputs": [
    {
     "name": "stdout",
     "output_type": "stream",
     "text": [
      "Epoch 1/10\n"
     ]
    },
    {
     "name": "stderr",
     "output_type": "stream",
     "text": [
      "2022-01-09 14:55:55.225217: I tensorflow/stream_executor/cuda/cuda_dnn.cc:366] Loaded cuDNN version 8202\n",
      "2022-01-09 14:56:23.257948: W tensorflow/core/common_runtime/bfc_allocator.cc:275] Allocator (GPU_0_bfc) ran out of memory trying to allocate 1.54GiB with freed_by_count=0. The caller indicates that this is not a failure, but may mean that there could be performance gains if more memory were available.\n",
      "2022-01-09 14:56:24.484449: W tensorflow/core/common_runtime/bfc_allocator.cc:275] Allocator (GPU_0_bfc) ran out of memory trying to allocate 1.77GiB with freed_by_count=0. The caller indicates that this is not a failure, but may mean that there could be performance gains if more memory were available.\n",
      "2022-01-09 14:56:24.484538: W tensorflow/core/common_runtime/bfc_allocator.cc:275] Allocator (GPU_0_bfc) ran out of memory trying to allocate 2.03GiB with freed_by_count=0. The caller indicates that this is not a failure, but may mean that there could be performance gains if more memory were available.\n",
      "2022-01-09 14:56:26.386785: W tensorflow/core/common_runtime/bfc_allocator.cc:275] Allocator (GPU_0_bfc) ran out of memory trying to allocate 1.02GiB with freed_by_count=0. The caller indicates that this is not a failure, but may mean that there could be performance gains if more memory were available.\n",
      "2022-01-09 14:56:26.930949: W tensorflow/core/common_runtime/bfc_allocator.cc:275] Allocator (GPU_0_bfc) ran out of memory trying to allocate 1.12GiB with freed_by_count=0. The caller indicates that this is not a failure, but may mean that there could be performance gains if more memory were available.\n",
      "2022-01-09 14:56:27.351477: W tensorflow/core/common_runtime/bfc_allocator.cc:275] Allocator (GPU_0_bfc) ran out of memory trying to allocate 1.53GiB with freed_by_count=0. The caller indicates that this is not a failure, but may mean that there could be performance gains if more memory were available.\n",
      "2022-01-09 14:56:27.498917: W tensorflow/core/common_runtime/bfc_allocator.cc:275] Allocator (GPU_0_bfc) ran out of memory trying to allocate 691.28MiB with freed_by_count=0. The caller indicates that this is not a failure, but may mean that there could be performance gains if more memory were available.\n",
      "2022-01-09 14:56:27.985535: W tensorflow/core/common_runtime/bfc_allocator.cc:275] Allocator (GPU_0_bfc) ran out of memory trying to allocate 1.62GiB with freed_by_count=0. The caller indicates that this is not a failure, but may mean that there could be performance gains if more memory were available.\n",
      "2022-01-09 14:56:27.985607: W tensorflow/core/common_runtime/bfc_allocator.cc:275] Allocator (GPU_0_bfc) ran out of memory trying to allocate 691.28MiB with freed_by_count=0. The caller indicates that this is not a failure, but may mean that there could be performance gains if more memory were available.\n",
      "2022-01-09 14:56:31.573995: W tensorflow/core/common_runtime/bfc_allocator.cc:275] Allocator (GPU_0_bfc) ran out of memory trying to allocate 1.29GiB with freed_by_count=0. The caller indicates that this is not a failure, but may mean that there could be performance gains if more memory were available.\n"
     ]
    },
    {
     "name": "stdout",
     "output_type": "stream",
     "text": [
      "37/37 [==============================] - 199s 4s/step - loss: 0.0174 - dice_coef: 0.0193 - accuracy: 0.3688 - val_loss: 0.0545 - val_dice_coef: 0.0021 - val_accuracy: 0.4929\n",
      "Epoch 2/10\n",
      "37/37 [==============================] - 133s 4s/step - loss: 0.0189 - dice_coef: 0.0234 - accuracy: 0.5009 - val_loss: 0.0718 - val_dice_coef: 0.0297 - val_accuracy: 0.4070\n",
      "Epoch 3/10\n",
      "37/37 [==============================] - 133s 4s/step - loss: 0.0171 - dice_coef: 0.0304 - accuracy: 0.5464 - val_loss: 0.0221 - val_dice_coef: 0.2063 - val_accuracy: 0.4316\n",
      "Epoch 4/10\n",
      "37/37 [==============================] - 134s 4s/step - loss: 0.0447 - dice_coef: 0.0476 - accuracy: 0.5597 - val_loss: 0.0532 - val_dice_coef: 0.0908 - val_accuracy: 0.3367\n",
      "Epoch 5/10\n",
      "37/37 [==============================] - 133s 4s/step - loss: 0.0584 - dice_coef: 0.0806 - accuracy: 0.5734 - val_loss: 0.0706 - val_dice_coef: 0.5177 - val_accuracy: 0.4914\n",
      "Epoch 6/10\n",
      "37/37 [==============================] - 134s 4s/step - loss: 0.0508 - dice_coef: 0.1317 - accuracy: 0.6291 - val_loss: 0.0539 - val_dice_coef: 0.7944 - val_accuracy: 1.0000\n",
      "Epoch 7/10\n",
      "37/37 [==============================] - 133s 4s/step - loss: 0.0377 - dice_coef: 0.2546 - accuracy: 0.6667 - val_loss: 0.0558 - val_dice_coef: 0.7513 - val_accuracy: 1.0000\n",
      "Epoch 8/10\n",
      "37/37 [==============================] - 134s 4s/step - loss: 0.0303 - dice_coef: 0.5302 - accuracy: 0.7422 - val_loss: 0.0518 - val_dice_coef: 0.8027 - val_accuracy: 0.9942\n",
      "Epoch 9/10\n",
      "37/37 [==============================] - 133s 4s/step - loss: 0.0318 - dice_coef: 0.6674 - accuracy: 0.6997 - val_loss: 0.0592 - val_dice_coef: 0.8275 - val_accuracy: 1.0000\n",
      "Epoch 10/10\n",
      "37/37 [==============================] - 135s 4s/step - loss: 0.0277 - dice_coef: 0.7728 - accuracy: 0.7409 - val_loss: 0.0524 - val_dice_coef: 0.8435 - val_accuracy: 1.0000\n"
     ]
    }
   ],
   "source": [
    "history = model_new.fit(X_Train,Y_Train,batch_size=32, epochs=10,validation_data = (X_Val,Y_Val),verbose=1,shuffle=True)"
   ]
  },
  {
   "cell_type": "code",
   "execution_count": 11,
   "id": "55e669dc",
   "metadata": {},
   "outputs": [],
   "source": [
    "model_new.save_weights('dice84.h5')"
   ]
  },
  {
   "cell_type": "code",
   "execution_count": 12,
   "id": "f6e988c2",
   "metadata": {},
   "outputs": [
    {
     "name": "stdout",
     "output_type": "stream",
     "text": [
      "17/17 [==============================] - 27s 2s/step - loss: 0.0465 - dice_coef: 0.7105 - accuracy: 1.0000\n"
     ]
    },
    {
     "data": {
      "text/plain": [
       "[0.046544935554265976, 0.7105074524879456, 1.0]"
      ]
     },
     "execution_count": 12,
     "metadata": {},
     "output_type": "execute_result"
    }
   ],
   "source": [
    "model_new.evaluate(X_Test, Y_Test)"
   ]
  },
  {
   "cell_type": "code",
   "execution_count": 21,
   "id": "14823037",
   "metadata": {},
   "outputs": [],
   "source": [
    "model_new.load_weights('dice84.h5')"
   ]
  },
  {
   "cell_type": "code",
   "execution_count": 23,
   "id": "b0de8b35",
   "metadata": {},
   "outputs": [
    {
     "data": {
      "image/png": "[encoded data removed]",
      "text/plain": [
       "<Figure size 432x288 with 1 Axes>"
      ]
     },
     "metadata": {
      "needs_background": "light"
     },
     "output_type": "display_data"
    }
   ],
   "source": [
    "X_ = []\n",
    "img = Path(\"Data/img1.png\")\n",
    "imggX = image.load_img(img,target_size=(160,160))\n",
    "img_arrayX = image.img_to_array(imggX)\n",
    "X_.append(img_arrayX)\n",
    "X_ = np.array(X_)\n",
    "Y_ = model_new.predict(X_)\n",
    "from matplotlib import pyplot as plt\n",
    "def plot_img(data):\n",
    "    plt.imshow(data, interpolation='nearest')\n",
    "    plt.show()\n",
    "plot_img(Y_[0])"
   ]
  },
  {
   "cell_type": "markdown",
   "id": "618b67eb",
   "metadata": {},
   "source": [
    "### Plottings for U-Net Model"
   ]
  },
  {
   "cell_type": "code",
   "execution_count": 18,
   "id": "167b075b",
   "metadata": {},
   "outputs": [
    {
     "data": {
      "image/png": "[encoded data removed]",
      "text/plain": [
       "<Figure size 576x576 with 1 Axes>"
      ]
     },
     "metadata": {
      "needs_background": "light"
     },
     "output_type": "display_data"
    }
   ],
   "source": [
    "def plot_learning_curve_dice(history):\n",
    "    plt.figure(figsize=(8,8))\n",
    "    plt.subplot(1,2,1)\n",
    "    plt.plot(history.history['dice_coef'])\n",
    "    plt.plot(history.history['val_dice_coef'])\n",
    "    plt.title('model accuracy')\n",
    "    plt.ylabel('dice_coef')\n",
    "    plt.xlabel('epoch')\n",
    "    plt.legend(['train', 'validation'], loc='upper left')\n",
    "plot_learning_curve_dice(history)"
   ]
  },
  {
   "cell_type": "code",
   "execution_count": 19,
   "id": "75bec532",
   "metadata": {},
   "outputs": [
    {
     "data": {
      "image/png": "[encoded data removed]",
      "text/plain": [
       "<Figure size 576x576 with 2 Axes>"
      ]
     },
     "metadata": {
      "needs_background": "light"
     },
     "output_type": "display_data"
    }
   ],
   "source": [
    "def plot_learning_curve(history):\n",
    "    plt.figure(figsize=(8,8))\n",
    "    plt.subplot(1,2,1)\n",
    "    plt.plot(history.history['accuracy'])\n",
    "    plt.plot(history.history['val_accuracy'])\n",
    "    plt.title('model accuracy')\n",
    "    plt.ylabel('accuracy')\n",
    "    plt.xlabel('epoch')\n",
    "    plt.legend(['train', 'validation'], loc='upper left')\n",
    "    # summarize history for loss\n",
    "    plt.subplot(1,2,2)\n",
    "    plt.plot(history.history['loss'])\n",
    "    plt.plot(history.history['val_loss'])\n",
    "    plt.title('model loss')\n",
    "    plt.ylabel('loss')\n",
    "    plt.xlabel('epoch')\n",
    "    plt.legend(['train', 'validation'], loc='upper left')\n",
    "plot_learning_curve(history)"
   ]
  },
  {
   "cell_type": "markdown",
   "id": "1dd8359b",
   "metadata": {},
   "source": [
    "### Results for U-Net Model"
   ]
  },
  {
   "cell_type": "code",
   "execution_count": 22,
   "id": "470f8e73",
   "metadata": {},
   "outputs": [],
   "source": [
    "test_pred = model_new.predict(X_Test, batch_size=32) \n",
    "test_result = np.zeros(test_pred.shape)\n",
    "test_result[test_pred>0.5] = 1\n",
    "test_result[test_pred<=0.5] = 0\n",
    "dice = dc(test_result, Y_Test)\n",
    "pre  = precision(test_result,Y_Test)\n",
    "re   = recall(test_result,Y_Test)"
   ]
  },
  {
   "cell_type": "code",
   "execution_count": 26,
   "id": "7a895ac6",
   "metadata": {},
   "outputs": [
    {
     "name": "stdout",
     "output_type": "stream",
     "text": [
      "Dice of the model is:  0.7377518538936212\n",
      "Precision of the model is:  0.7893675317756298\n",
      "Recall of the model is:  0.6924720413954265\n"
     ]
    }
   ],
   "source": [
    "print(\"Dice of the model is: \",dice)\n",
    "print(\"Precision of the model is: \",pre)\n",
    "print(\"Recall of the model is: \",re)"
   ]
  },
  {
   "cell_type": "markdown",
   "id": "a025dc3e",
   "metadata": {},
   "source": [
    "## CNN Model"
   ]
  },
  {
   "cell_type": "code",
   "execution_count": 6,
   "id": "613947b8",
   "metadata": {},
   "outputs": [],
   "source": [
    "def CNN():    \n",
    "    simple_cnn = Sequential()\n",
    "    simple_cnn.add(BatchNormalization(input_shape = (None, None, 3),name = 'NormalizeInput'))\n",
    "    simple_cnn.add(Conv2D(8, kernel_size = (3,3), padding = 'same'))\n",
    "    simple_cnn.add(Conv2D(8, kernel_size = (3,3), padding = 'same'))\n",
    "    # dilations to get a slightly larger field of view\n",
    "    simple_cnn.add(Conv2D(16, kernel_size = (3,3), dilation_rate = 2, padding = 'same'))\n",
    "    simple_cnn.add(Conv2D(16, kernel_size = (3,3), dilation_rate = 2, padding = 'same'))\n",
    "    simple_cnn.add(Conv2D(32, kernel_size = (3,3), dilation_rate = 3, padding = 'same'))\n",
    "    # the final processing\n",
    "    simple_cnn.add(Conv2D(16, kernel_size = (1,1), padding = 'same'))\n",
    "    simple_cnn.add(Conv2D(3, kernel_size = (1,1), padding = 'same', activation = 'sigmoid'))\n",
    "    return simple_cnn"
   ]
  },
  {
   "cell_type": "code",
   "execution_count": 7,
   "id": "673de584",
   "metadata": {},
   "outputs": [],
   "source": [
    "smooth=1\n",
    "def dice_coef(y_true, y_pred):\n",
    "    y_true_f = K.flatten(y_true)\n",
    "    y_pred_f = K.flatten(y_pred)\n",
    "    intersection = K.sum(y_true_f * y_pred_f)\n",
    "    return (2. * intersection + smooth) / (K.sum(y_true_f) + K.sum(y_pred_f) + smooth)"
   ]
  },
  {
   "cell_type": "code",
   "execution_count": 8,
   "id": "39a22088",
   "metadata": {},
   "outputs": [
    {
     "name": "stdout",
     "output_type": "stream",
     "text": [
      "Model: \"sequential_1\"\n",
      "_________________________________________________________________\n",
      " Layer (type)                Output Shape              Param #   \n",
      "=================================================================\n",
      " NormalizeInput (BatchNormal  (None, None, None, 3)    12        \n",
      " ization)                                                        \n",
      "                                                                 \n",
      " conv2d_7 (Conv2D)           (None, None, None, 8)     224       \n",
      "                                                                 \n",
      " conv2d_8 (Conv2D)           (None, None, None, 8)     584       \n",
      "                                                                 \n",
      " conv2d_9 (Conv2D)           (None, None, None, 16)    1168      \n",
      "                                                                 \n",
      " conv2d_10 (Conv2D)          (None, None, None, 16)    2320      \n",
      "                                                                 \n",
      " conv2d_11 (Conv2D)          (None, None, None, 32)    4640      \n",
      "                                                                 \n",
      " conv2d_12 (Conv2D)          (None, None, None, 16)    528       \n",
      "                                                                 \n",
      " conv2d_13 (Conv2D)          (None, None, None, 3)     51        \n",
      "                                                                 \n",
      "=================================================================\n",
      "Total params: 9,527\n",
      "Trainable params: 9,521\n",
      "Non-trainable params: 6\n",
      "_________________________________________________________________\n"
     ]
    }
   ],
   "source": [
    "model_cnn = CNN()\n",
    "model_cnn.summary()"
   ]
  },
  {
   "cell_type": "code",
   "execution_count": 10,
   "id": "eaca6b2f",
   "metadata": {},
   "outputs": [],
   "source": [
    "optimizer=tf.keras.optimizers.Adam(lr=0.001, beta_1=0.9, beta_2=0.999, epsilon=None, decay=0.0, amsgrad=True)\n",
    "model_cnn.compile(loss=['categorical_crossentropy'], optimizer=optimizer, metrics=[dice_coef,'accuracy'])"
   ]
  },
  {
   "cell_type": "markdown",
   "id": "037e95f6",
   "metadata": {},
   "source": [
    "### Training the CNN Model "
   ]
  },
  {
   "cell_type": "code",
   "execution_count": 12,
   "id": "d3ff9208",
   "metadata": {},
   "outputs": [
    {
     "name": "stderr",
     "output_type": "stream",
     "text": [
      "2022-01-09 15:44:18.842797: W tensorflow/core/framework/cpu_allocator_impl.cc:82] Allocation of 356352000 exceeds 10% of free system memory.\n"
     ]
    },
    {
     "name": "stdout",
     "output_type": "stream",
     "text": [
      "Epoch 1/10\n",
      "37/37 [==============================] - 51s 1s/step - loss: 0.0200 - dice_coef: 0.0372 - accuracy: 0.1928 - val_loss: 0.0356 - val_dice_coef: 0.0521 - val_accuracy: 0.7290\n",
      "Epoch 2/10\n",
      "37/37 [==============================] - 52s 1s/step - loss: 0.7169 - dice_coef: 0.0450 - accuracy: 0.9646 - val_loss: 4.9163 - val_dice_coef: 0.0399 - val_accuracy: 0.9996\n",
      "Epoch 3/10\n",
      "37/37 [==============================] - 55s 2s/step - loss: 47.2726 - dice_coef: 0.0433 - accuracy: 0.9999 - val_loss: 130.2905 - val_dice_coef: 0.0422 - val_accuracy: 1.0000\n",
      "Epoch 4/10\n",
      "37/37 [==============================] - 52s 1s/step - loss: 608.6564 - dice_coef: 0.0463 - accuracy: 1.0000 - val_loss: 1234.9718 - val_dice_coef: 0.0455 - val_accuracy: 1.0000\n",
      "Epoch 5/10\n",
      "37/37 [==============================] - 51s 1s/step - loss: 9006.2021 - dice_coef: 0.0493 - accuracy: 1.0000 - val_loss: 13432.4395 - val_dice_coef: 0.0486 - val_accuracy: 1.0000\n",
      "Epoch 6/10\n",
      "37/37 [==============================] - 51s 1s/step - loss: 40033.5820 - dice_coef: 0.0522 - accuracy: 1.0000 - val_loss: 56080.2266 - val_dice_coef: 0.0514 - val_accuracy: 1.0000\n",
      "Epoch 7/10\n",
      "37/37 [==============================] - 50s 1s/step - loss: 200144.6562 - dice_coef: 0.0557 - accuracy: 1.0000 - val_loss: 272089.0938 - val_dice_coef: 0.0542 - val_accuracy: 1.0000\n",
      "Epoch 8/10\n",
      "37/37 [==============================] - 48s 1s/step - loss: 707556.5000 - dice_coef: 0.0580 - accuracy: 1.0000 - val_loss: 743842.6250 - val_dice_coef: 0.0565 - val_accuracy: 1.0000\n",
      "Epoch 9/10\n",
      "37/37 [==============================] - 53s 1s/step - loss: 2257102.7500 - dice_coef: 0.0602 - accuracy: 1.0000 - val_loss: 2621480.2500 - val_dice_coef: 0.0583 - val_accuracy: 1.0000\n",
      "Epoch 10/10\n",
      "37/37 [==============================] - 53s 1s/step - loss: 7271903.0000 - dice_coef: 0.0611 - accuracy: 1.0000 - val_loss: 15541802.0000 - val_dice_coef: 0.0600 - val_accuracy: 1.0000\n"
     ]
    }
   ],
   "source": [
    "history1 = model_cnn.fit(X_Train,Y_Train,batch_size=32, epochs=10,validation_data = (X_Val,Y_Val),verbose=1,shuffle=True)"
   ]
  },
  {
   "cell_type": "code",
   "execution_count": 13,
   "id": "28644996",
   "metadata": {},
   "outputs": [
    {
     "name": "stdout",
     "output_type": "stream",
     "text": [
      "17/17 [==============================] - 16s 935ms/step - loss: 14972801.0000 - dice_coef: 0.0522 - accuracy: 1.0000\n"
     ]
    },
    {
     "data": {
      "text/plain": [
       "[14972801.0, 0.05220600590109825, 0.9999996423721313]"
      ]
     },
     "execution_count": 13,
     "metadata": {},
     "output_type": "execute_result"
    }
   ],
   "source": [
    "model_cnn.evaluate(X_Test, Y_Test)"
   ]
  },
  {
   "cell_type": "markdown",
   "id": "72a66f2d",
   "metadata": {},
   "source": [
    "### Plottings for CNN Model"
   ]
  },
  {
   "cell_type": "code",
   "execution_count": 14,
   "id": "d1c0aee1",
   "metadata": {},
   "outputs": [
    {
     "data": {
      "image/png": "[encoded data removed]",
      "text/plain": [
       "<Figure size 576x576 with 1 Axes>"
      ]
     },
     "metadata": {
      "needs_background": "light"
     },
     "output_type": "display_data"
    }
   ],
   "source": [
    "def plot_learning_curve_dice(history):\n",
    "    plt.figure(figsize=(8,8))\n",
    "    plt.subplot(1,2,1)\n",
    "    plt.plot(history.history['dice_coef'])\n",
    "    plt.plot(history.history['val_dice_coef'])\n",
    "    plt.title('model accuracy')\n",
    "    plt.ylabel('dice_coef')\n",
    "    plt.xlabel('epoch')\n",
    "    plt.legend(['train', 'validation'], loc='upper left')\n",
    "plot_learning_curve_dice(history1)"
   ]
  },
  {
   "cell_type": "code",
   "execution_count": 15,
   "id": "a07be8e1",
   "metadata": {},
   "outputs": [
    {
     "data": {
      "image/png": "[encoded data removed]",
      "text/plain": [
       "<Figure size 576x576 with 2 Axes>"
      ]
     },
     "metadata": {
      "needs_background": "light"
     },
     "output_type": "display_data"
    }
   ],
   "source": [
    "def plot_learning_curve(history):\n",
    "    plt.figure(figsize=(8,8))\n",
    "    plt.subplot(1,2,1)\n",
    "    plt.plot(history.history['accuracy'])\n",
    "    plt.plot(history.history['val_accuracy'])\n",
    "    plt.title('model accuracy')\n",
    "    plt.ylabel('accuracy')\n",
    "    plt.xlabel('epoch')\n",
    "    plt.legend(['train', 'validation'], loc='upper left')\n",
    "    # summarize history for loss\n",
    "    plt.subplot(1,2,2)\n",
    "    plt.plot(history.history['loss'])\n",
    "    plt.plot(history.history['val_loss'])\n",
    "    plt.title('model loss')\n",
    "    plt.ylabel('loss')\n",
    "    plt.xlabel('epoch')\n",
    "    plt.legend(['train', 'validation'], loc='upper left')\n",
    "plot_learning_curve(history1)"
   ]
  },
  {
   "cell_type": "markdown",
   "id": "8dd73737",
   "metadata": {},
   "source": [
    "### Results for CNN Model"
   ]
  },
  {
   "cell_type": "code",
   "execution_count": 16,
   "id": "315df798",
   "metadata": {},
   "outputs": [],
   "source": [
    "test_pred = model_cnn.predict(X_Test, batch_size=32) \n",
    "test_result = np.zeros(test_pred.shape)\n",
    "test_result[test_pred>0.5] = 1\n",
    "test_result[test_pred<=0.5] = 0\n",
    "dice = dc(test_result, Y_Test)\n",
    "pre  = precision(test_result,Y_Test)\n",
    "re   = recall(test_result,Y_Test)"
   ]
  },
  {
   "cell_type": "code",
   "execution_count": 17,
   "id": "496dc1b1",
   "metadata": {},
   "outputs": [
    {
     "name": "stdout",
     "output_type": "stream",
     "text": [
      "Dice of the model is:  0.05238239032577476\n",
      "Precision of the model is:  0.026898489682547554\n",
      "Recall of the model is:  0.9960540811216825\n"
     ]
    }
   ],
   "source": [
    "print(\"Dice of the model is: \",dice)\n",
    "print(\"Precision of the model is: \",pre)\n",
    "print(\"Recall of the model is: \",re)"
   ]
  }
 ],
 "metadata": {
  "kernelspec": {
   "display_name": "Python 3 (ipykernel)",
   "language": "python",
   "name": "python3"
  },
  "language_info": {
   "codemirror_mode": {
    "name": "ipython",
    "version": 3
   },
   "file_extension": ".py",
   "mimetype": "text/x-python",
   "name": "python",
   "nbconvert_exporter": "python",
   "pygments_lexer": "ipython3",
   "version": "3.9.7"
  }
 },
 "nbformat": 4,
 "nbformat_minor": 5
}
